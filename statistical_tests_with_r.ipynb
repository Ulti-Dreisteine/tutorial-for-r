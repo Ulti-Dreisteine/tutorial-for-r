{
 "cells": [
  {
   "cell_type": "markdown",
   "source": [
    "## **统计检验方法**\n",
    "\n",
    "|| 二分类 | 连续 |\n",
    "|--- | :---: | :---: |\n",
    "| **单变量** |二分类: $\\chi^2$检验<br>多分类: $\\chi^2$检验<br>连续: 双样本t检验|二分类: 双样本t检验<br>多分类: 单因素方差分析(ANOVA)<br>连续: 相关分析|\n",
    "| **多变量** |分类: 逻辑回归<br>连续: 逻辑回归|分类: 多因素方差分析 & 线性回归<br>连续: 线性回归|"
   ],
   "metadata": {}
  },
  {
   "cell_type": "markdown",
   "source": [
    "### **一、双变量检验**"
   ],
   "metadata": {}
  },
  {
   "cell_type": "markdown",
   "source": [
    "---\n",
    "\n",
    "### **1.1 两个连续变量**\n",
    "\n",
    "**Pearson相关检验**: 判断两组样本背后的总体分布是否存在显著的线性相关(ref: 卫生统计学, P 224 ~ 225)"
   ],
   "metadata": {}
  },
  {
   "cell_type": "code",
   "execution_count": 30,
   "source": [
    "library(ggplot2)\n",
    "library(repr)\n",
    "\n",
    "x <- c(1.0, 2.0, 3.0, 4.0, 5.0)\n",
    "y <- c(1.0, 2.0, 3.1, 4.2, 4.9)\n",
    "dat <- data.frame(x, y)\n",
    "\n",
    "options(repr.plot.width=2, repr.plot.height=2)\n",
    "ggplot(dat, aes(x = x, y = y)) + \n",
    "    geom_point() + \n",
    "    theme(plot.title = element_text(hjust = 0.5,size=2), plot.margin = unit(c(0, 0, 0, 0), \"cm\"))\n",
    "\n",
    "cor(dat, method = \"pearson\")\n",
    "cor.test(x, y, alternative = \"two.side\", method = \"pearson\")"
   ],
   "outputs": [
    {
     "output_type": "display_data",
     "data": {
      "text/html": [
       "<table class=\"dataframe\">\n",
       "<caption>A matrix: 2 × 2 of type dbl</caption>\n",
       "<thead>\n",
       "\t<tr><th></th><th scope=col>x</th><th scope=col>y</th></tr>\n",
       "</thead>\n",
       "<tbody>\n",
       "\t<tr><th scope=row>x</th><td>1.0000000</td><td>0.9974101</td></tr>\n",
       "\t<tr><th scope=row>y</th><td>0.9974101</td><td>1.0000000</td></tr>\n",
       "</tbody>\n",
       "</table>\n"
      ],
      "text/latex": [
       "A matrix: 2 × 2 of type dbl\n",
       "\\begin{tabular}{r|ll}\n",
       "  & x & y\\\\\n",
       "\\hline\n",
       "\tx & 1.0000000 & 0.9974101\\\\\n",
       "\ty & 0.9974101 & 1.0000000\\\\\n",
       "\\end{tabular}\n"
      ],
      "text/markdown": [
       "\n",
       "A matrix: 2 × 2 of type dbl\n",
       "\n",
       "| <!--/--> | x | y |\n",
       "|---|---|---|\n",
       "| x | 1.0000000 | 0.9974101 |\n",
       "| y | 0.9974101 | 1.0000000 |\n",
       "\n"
      ],
      "text/plain": [
       "  x         y        \n",
       "x 1.0000000 0.9974101\n",
       "y 0.9974101 1.0000000"
      ]
     },
     "metadata": {}
    },
    {
     "output_type": "display_data",
     "data": {
      "text/plain": [
       "\n",
       "\tPearson's product-moment correlation\n",
       "\n",
       "data:  x and y\n",
       "t = 24.019, df = 3, p-value = 0.0001582\n",
       "alternative hypothesis: true correlation is not equal to 0\n",
       "95 percent confidence interval:\n",
       " 0.9593822 0.9998378\n",
       "sample estimates:\n",
       "      cor \n",
       "0.9974101 \n"
      ]
     },
     "metadata": {}
    },
    {
     "output_type": "display_data",
     "data": {
      "image/png": "[encoded data removed]",
      "text/plain": [
       "plot without title"
      ]
     },
     "metadata": {
      "image/png": {
       "width": 120,
       "height": 120
      }
     }
    }
   ],
   "metadata": {}
  },
  {
   "cell_type": "markdown",
   "source": [
    "**秩相关系数检验**"
   ],
   "metadata": {}
  },
  {
   "cell_type": "code",
   "execution_count": 31,
   "source": [
    "cor(dat, method = \"spearman\")\n",
    "cor.test(x, y, alternative = \"two.side\", method = \"spearman\")"
   ],
   "outputs": [
    {
     "output_type": "display_data",
     "data": {
      "text/html": [
       "<table class=\"dataframe\">\n",
       "<caption>A matrix: 2 × 2 of type dbl</caption>\n",
       "<thead>\n",
       "\t<tr><th></th><th scope=col>x</th><th scope=col>y</th></tr>\n",
       "</thead>\n",
       "<tbody>\n",
       "\t<tr><th scope=row>x</th><td>1</td><td>1</td></tr>\n",
       "\t<tr><th scope=row>y</th><td>1</td><td>1</td></tr>\n",
       "</tbody>\n",
       "</table>\n"
      ],
      "text/latex": [
       "A matrix: 2 × 2 of type dbl\n",
       "\\begin{tabular}{r|ll}\n",
       "  & x & y\\\\\n",
       "\\hline\n",
       "\tx & 1 & 1\\\\\n",
       "\ty & 1 & 1\\\\\n",
       "\\end{tabular}\n"
      ],
      "text/markdown": [
       "\n",
       "A matrix: 2 × 2 of type dbl\n",
       "\n",
       "| <!--/--> | x | y |\n",
       "|---|---|---|\n",
       "| x | 1 | 1 |\n",
       "| y | 1 | 1 |\n",
       "\n"
      ],
      "text/plain": [
       "  x y\n",
       "x 1 1\n",
       "y 1 1"
      ]
     },
     "metadata": {}
    },
    {
     "output_type": "display_data",
     "data": {
      "text/plain": [
       "\n",
       "\tSpearman's rank correlation rho\n",
       "\n",
       "data:  x and y\n",
       "S = 4.4409e-15, p-value = 0.01667\n",
       "alternative hypothesis: true rho is not equal to 0\n",
       "sample estimates:\n",
       "rho \n",
       "  1 \n"
      ]
     },
     "metadata": {}
    }
   ],
   "metadata": {}
  },
  {
   "cell_type": "markdown",
   "source": [
    "**直线回归统计推断**"
   ],
   "metadata": {}
  },
  {
   "cell_type": "code",
   "execution_count": 34,
   "source": [
    "relation <- lm(y ~ x)\n",
    "\n",
    "summary(relation)"
   ],
   "outputs": [
    {
     "output_type": "display_data",
     "data": {
      "text/plain": [
       "\n",
       "Call:\n",
       "lm(formula = y ~ x)\n",
       "\n",
       "Residuals:\n",
       "    1     2     3     4     5 \n",
       "-0.04 -0.04  0.06  0.16 -0.14 \n",
       "\n",
       "Coefficients:\n",
       "            Estimate Std. Error t value Pr(>|t|)    \n",
       "(Intercept)  0.04000    0.13808    0.29 0.790926    \n",
       "x            1.00000    0.04163   24.02 0.000158 ***\n",
       "---\n",
       "Signif. codes:  0 '***' 0.001 '**' 0.01 '*' 0.05 '.' 0.1 ' ' 1\n",
       "\n",
       "Residual standard error: 0.1317 on 3 degrees of freedom\n",
       "Multiple R-squared:  0.9948,\tAdjusted R-squared:  0.9931 \n",
       "F-statistic: 576.9 on 1 and 3 DF,  p-value: 0.0001582\n"
      ]
     },
     "metadata": {}
    }
   ],
   "metadata": {}
  },
  {
   "cell_type": "markdown",
   "source": [
    "检验残差是否符合正态分布($H_0$: 符合正态分布):"
   ],
   "metadata": {}
  },
  {
   "cell_type": "code",
   "execution_count": 35,
   "source": [
    "shapiro.test(resid(relation))"
   ],
   "outputs": [
    {
     "output_type": "display_data",
     "data": {
      "text/plain": [
       "\n",
       "\tShapiro-Wilk normality test\n",
       "\n",
       "data:  resid(relation)\n",
       "W = 0.96086, p-value = 0.814\n"
      ]
     },
     "metadata": {}
    }
   ],
   "metadata": {}
  },
  {
   "cell_type": "markdown",
   "source": [
    "看见P值大于0.005, 因此接受$H_0$, 即残差符合正态分布."
   ],
   "metadata": {}
  }
 ],
 "metadata": {
  "interpreter": {
   "hash": "07efdcd4b820c98a756949507a4d29d7862823915ec7477944641bea022f4f62"
  },
  "kernelspec": {
   "display_name": "R",
   "language": "R",
   "name": "ir"
  },
  "language_info": {
   "codemirror_mode": "r",
   "file_extension": ".r",
   "mimetype": "text/x-r-source",
   "name": "R",
   "pygments_lexer": "r",
   "version": "4.1.0"
  }
 },
 "nbformat": 4,
 "nbformat_minor": 4
}